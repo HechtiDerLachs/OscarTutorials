{
 "cells": [
  {
   "cell_type": "code",
   "execution_count": 1,
   "id": "989994aa",
   "metadata": {},
   "outputs": [
    {
     "name": "stdout",
     "output_type": "stream",
     "text": [
      "\r"
     ]
    },
    {
     "name": "stdout",
     "output_type": "stream",
     "text": [
      "  ___   ____   ____    _    ____\n",
      " / _ \\ / ___| / ___|  / \\  |  _ \\   |  Combining ANTIC, GAP, Polymake, Singular\n",
      "| | | |\\___ \\| |     / _ \\ | |_) |  |  Type \"?Oscar\" for more information\n",
      "| |_| | ___) | |___ / ___ \\|  _ <   |  Manual: https://docs.oscar-system.org\n",
      " \\___/ |____/ \\____/_/   \\_\\_| \\_\\  |  Version 1.1.1\n"
     ]
    }
   ],
   "source": [
    "using Oscar"
   ]
  },
  {
   "cell_type": "markdown",
   "id": "a5d945a7-5b4d-4471-85a5-afd5c8efa330",
   "metadata": {},
   "source": [
    "# Covered schemes and elliptic surfaces in OSCAR"
   ]
  },
  {
   "cell_type": "markdown",
   "id": "8182aa49-fa3c-4e7f-9a37-feb42042ea11",
   "metadata": {},
   "source": [
    "Authors: Simon Brandhorst, Matthias Zach  \n",
    "Related projects: B1, B5 and A22"
   ]
  },
  {
   "cell_type": "markdown",
   "id": "0325a1ea-08af-4578-a21a-28d5cd470f55",
   "metadata": {},
   "source": [
    "Related publications:\n",
    "- Simon Brandhorst, Matthias Zach, Elliptic Fibrations on Vinberg's Most Algebraic K3 Surface, [arXiv:2311.11766](https://doi.org/10.48550/arXiv.2311.11766)\n",
    "- Simon Brandhorst, Noam D. Elkies, Equations for a K3 Lehmer map, [Journal of Algebraic Geometry 32 (2023), 641-675](https://doi.org/10.1090/jag/810)\n",
    "\n",
    "The notebook requires a minimum of 16 GiB RAM."
   ]
  },
  {
   "cell_type": "markdown",
   "id": "2434c427-42e3-498d-a2df-dbf187a2f61b",
   "metadata": {},
   "source": [
    "A K3 surface $Y$ may admit infinitely many distinct elliptic fibrations $\\pi\\colon Y \\to \\mathbb{P}^1$. \n",
    "Likewise the automorphism group of a K3 surface $Y$ can be infinte.  \n",
    "This notebook shows how to use Oscar to calculate the automorphism group and the elliptic fibrations on $Y$ up to isomorphisms\n",
    "explicitly.\n",
    "\n",
    "The running example is Vinberg's \"most algebraic K3 surface\" $Y_1$, the unique algebraic K3 surface of Picard number $20$ and discriminant $3$. Then we find all elliptic fibrations on $Y_1$ up to isomorphism. \n",
    "\n",
    "In Oscar one can represent a scheme in terms of an affine covering and gluing maps between the affine charts. Correspondingly effective divisors are sheaves of ideals.\n",
    "This point of view is especially useful to deal with singularities, birational maps and intersection numbers of divisors.  "
   ]
  },
  {
   "cell_type": "markdown",
   "id": "d5e03fec-f2e1-46e6-885e-a55ffb105fbf",
   "metadata": {},
   "source": [
    "To construct Vinberg's most algebraic K3 surface, we start by defining an elliptic curve over $\\mathbb Q(t)$:"
   ]
  },
  {
   "cell_type": "code",
   "execution_count": 2,
   "id": "ddf068fb",
   "metadata": {},
   "outputs": [
    {
     "data": {
      "text/plain": [
       "Elliptic curve with equation\n",
       "y^2 = x^3 + t^7 - 2*t^6 + t^5"
      ]
     },
     "execution_count": 2,
     "metadata": {},
     "output_type": "execute_result"
    }
   ],
   "source": [
    "Qt, t = polynomial_ring(QQ, :t);\n",
    "Qtf = fraction_field(Qt);\n",
    "E = elliptic_curve(Qtf, [0,0,0,0,t^5*(t-1)^2])"
   ]
  },
  {
   "cell_type": "markdown",
   "id": "65ba6756",
   "metadata": {},
   "source": [
    "From such an *elliptic curve* $E$ we can construct a relatively minimal **elliptic surface** $Y_1$, starting from a *Weierstrass model*:"
   ]
  },
  {
   "cell_type": "code",
   "execution_count": 3,
   "id": "f7c4a7b6",
   "metadata": {},
   "outputs": [
    {
     "data": {
      "text/plain": [
       "Scheme\n",
       "  over rational field\n",
       "with default covering\n",
       "  described by patches\n",
       "    1: scheme(-(x//z)^3 + (y//z)^2 - t^7 + 2*t^6 - t^5)\n",
       "    2: scheme((z//x)^3*t^7 - 2*(z//x)^3*t^6 + (z//x)^3*t^5 - (z//x)*(y//x)^2 + 1)\n",
       "    3: scheme((z//y)^3*t^7 - 2*(z//y)^3*t^6 + (z//y)^3*t^5 - (z//y) + (x//y)^3)\n",
       "    4: scheme((x//z)^3 - (y//z)^2 + s^7 - 2*s^6 + s^5)\n",
       "    5: scheme((z//x)^3*s^7 - 2*(z//x)^3*s^6 + (z//x)^3*s^5 - (z//x)*(y//x)^2 + 1)\n",
       "    6: scheme((z//y)^3*s^7 - 2*(z//y)^3*s^6 + (z//y)^3*s^5 - (z//y) + (x//y)^3)\n",
       "  in the coordinate(s)\n",
       "    1: [(x//z), (y//z), t]\n",
       "    2: [(z//x), (y//x), t]\n",
       "    3: [(z//y), (x//y), t]\n",
       "    4: [(x//z), (y//z), s]\n",
       "    5: [(z//x), (y//x), s]\n",
       "    6: [(z//y), (x//y), s]"
      ]
     },
     "execution_count": 3,
     "metadata": {},
     "output_type": "execute_result"
    }
   ],
   "source": [
    "Y1 = elliptic_surface(E, 2)\n",
    "S = weierstrass_model(Y1)[1]"
   ]
  },
  {
   "cell_type": "markdown",
   "id": "592f2ea1-3c6a-4377-a3f6-8290460e797d",
   "metadata": {},
   "source": [
    "Let us look at the gluing of the two Weierstrass charts coming from the two standard charts of $\\mathbb{P}^1$"
   ]
  },
  {
   "cell_type": "code",
   "execution_count": 4,
   "id": "ba08c3fd-9886-4625-b91a-59293d13bb42",
   "metadata": {},
   "outputs": [
    {
     "data": {
      "text/plain": [
       "Gluing\n",
       "  of scheme(-(x//z)^3 + (y//z)^2 - t^7 + 2*t^6 - t^5)\n",
       "  and scheme((x//z)^3 - (y//z)^2 + s^7 - 2*s^6 + s^5)\n",
       "along the open subsets\n",
       "  [(x//z), (y//z), t]   scheme(-(x//z)^3 + (y//z)^2 - t^7 + 2*t^6 - t^5) \\ scheme(t)\n",
       "  [(x//z), (y//z), s]   scheme((x//z)^3 - (y//z)^2 + s^7 - 2*s^6 + s^5) \\ scheme(s)\n",
       "given by the pullback function\n",
       "  (x//z) -> (x//z)/t^4\n",
       "  (y//z) -> (y//z)/t^6\n",
       "       s -> 1/t"
      ]
     },
     "execution_count": 4,
     "metadata": {},
     "output_type": "execute_result"
    }
   ],
   "source": [
    "S[1][1,4]"
   ]
  },
  {
   "cell_type": "markdown",
   "id": "50538a60",
   "metadata": {},
   "source": [
    "The Weierstrass model of $Y_1$ is singular. In order to obtain $Y_1$ itself as a covered scheme, we have to compute a *relatively minimal model* via a resolution of singularities."
   ]
  },
  {
   "cell_type": "code",
   "execution_count": 5,
   "id": "65f431bd",
   "metadata": {},
   "outputs": [
    {
     "data": {
      "text/plain": [
       "1"
      ]
     },
     "execution_count": 5,
     "metadata": {},
     "output_type": "execute_result"
    }
   ],
   "source": [
    "# The following two commands lead to a more verbose output; they can be skipped.\n",
    "# set_verbose_level(:EllipticSurface, 2)\n",
    "# set_verbose_level(:MorphismFromRationalFunctions, 5)\n",
    "set_verbose_level(:K3Auto, 1)"
   ]
  },
  {
   "cell_type": "code",
   "execution_count": 6,
   "id": "d185e92b",
   "metadata": {},
   "outputs": [
    {
     "data": {
      "text/plain": [
       "Composite morphism of\n",
       "  Hom: elliptic surface with generic fiber -x^3 + y^2 - t^7 + 2*t^6 - t^5 -> scheme over QQ covered with 44 patches\n",
       "  Hom: scheme over QQ covered with 44 patches -> scheme over QQ covered with 40 patches\n",
       "  Hom: scheme over QQ covered with 40 patches -> scheme over QQ covered with 38 patches\n",
       "  Hom: scheme over QQ covered with 38 patches -> scheme over QQ covered with 36 patches\n",
       "  Hom: scheme over QQ covered with 36 patches -> scheme over QQ covered with 32 patches\n",
       "  Hom: scheme over QQ covered with 32 patches -> scheme over QQ covered with 30 patches\n",
       "  Hom: scheme over QQ covered with 30 patches -> scheme over QQ covered with 28 patches\n",
       "  Hom: scheme over QQ covered with 28 patches -> scheme over QQ covered with 26 patches\n",
       "  Hom: scheme over QQ covered with 26 patches -> scheme over QQ covered with 24 patches\n",
       "  Hom: scheme over QQ covered with 24 patches -> scheme over QQ covered with 22 patches\n",
       "  Hom: scheme over QQ covered with 22 patches -> scheme over QQ covered with 20 patches\n",
       "  Hom: scheme over QQ covered with 20 patches -> scheme over QQ covered with 18 patches\n",
       "  Hom: scheme over QQ covered with 18 patches -> scheme over QQ covered with 16 patches\n",
       "  Hom: scheme over QQ covered with 16 patches -> scheme over QQ covered with 14 patches\n",
       "  Hom: scheme over QQ covered with 14 patches -> scheme over QQ covered with 12 patches\n",
       "  Hom: scheme over QQ covered with 12 patches -> scheme over QQ covered with 10 patches\n",
       "  Hom: scheme over QQ covered with 10 patches -> scheme over QQ covered with 6 patches\n",
       "\n"
      ]
     },
     "execution_count": 6,
     "metadata": {},
     "output_type": "execute_result"
    }
   ],
   "source": [
    "piS = weierstrass_contraction(Y1)"
   ]
  },
  {
   "cell_type": "markdown",
   "id": "05ca9a52",
   "metadata": {},
   "source": [
    "For any elliptically fibered K3 surface so constructed we can ask for the *algebraic lattice*. In general, this is a sublattice of the Neron-Severi group, but for Vinberg's K3 surface it is indeed equal to $\\mathrm{NS}(Y_1)$. "
   ]
  },
  {
   "cell_type": "code",
   "execution_count": 7,
   "id": "dd6a6e66",
   "metadata": {},
   "outputs": [
    {
     "data": {
      "text/plain": [
       "20-element Vector{Any}:\n",
       " Fiber over (2, 1)\n",
       " section: (0 : 1 : 0)\n",
       " component A2_1 of fiber over (1, 1)\n",
       " component A2_2 of fiber over (1, 1)\n",
       " component E8_1 of fiber over (0, 1)\n",
       " component E8_2 of fiber over (0, 1)\n",
       " component E8_3 of fiber over (0, 1)\n",
       " component E8_4 of fiber over (0, 1)\n",
       " component E8_5 of fiber over (0, 1)\n",
       " component E8_6 of fiber over (0, 1)\n",
       " component E8_7 of fiber over (0, 1)\n",
       " component E8_8 of fiber over (0, 1)\n",
       " component E8_1 of fiber over (1, 0)\n",
       " component E8_2 of fiber over (1, 0)\n",
       " component E8_3 of fiber over (1, 0)\n",
       " component E8_4 of fiber over (1, 0)\n",
       " component E8_5 of fiber over (1, 0)\n",
       " component E8_6 of fiber over (1, 0)\n",
       " component E8_7 of fiber over (1, 0)\n",
       " component E8_8 of fiber over (1, 0)"
      ]
     },
     "execution_count": 7,
     "metadata": {},
     "output_type": "execute_result"
    }
   ],
   "source": [
    "basisNSY1, _, NSY1 = algebraic_lattice(Y1);\n",
    "basisNSY1"
   ]
  },
  {
   "cell_type": "markdown",
   "id": "65772c21",
   "metadata": {},
   "source": [
    "We see there are two fibers of type $\\widetilde{E}_8$ over $(0:1)$ and $(1:0)$ and an $\\widetilde{A}_2$ fiber over $(1:1)$.\n",
    "This in agreement with the orders of vanishing of the discriminant of E and its j-invariant as predicted by Tate's algorithm."
   ]
  },
  {
   "cell_type": "code",
   "execution_count": 8,
   "id": "804517de",
   "metadata": {},
   "outputs": [
    {
     "data": {
      "text/plain": [
       "-432 * (t - 1)^4 * t^10"
      ]
     },
     "execution_count": 8,
     "metadata": {},
     "output_type": "execute_result"
    }
   ],
   "source": [
    "factor(Qt, discriminant(E))"
   ]
  },
  {
   "cell_type": "code",
   "execution_count": 9,
   "id": "6b8c3caa",
   "metadata": {},
   "outputs": [
    {
     "data": {
      "text/plain": [
       "0"
      ]
     },
     "execution_count": 9,
     "metadata": {},
     "output_type": "execute_result"
    }
   ],
   "source": [
    "j_invariant(E)"
   ]
  },
  {
   "cell_type": "markdown",
   "id": "e62a0813-795a-48b4-9358-56ac11c22400",
   "metadata": {},
   "source": [
    "### The generators for the algebraic lattice are given as effective Weil divisors on the surface"
   ]
  },
  {
   "cell_type": "code",
   "execution_count": 10,
   "id": "72a0a9c7-6386-4a61-ae10-060bfdff73e7",
   "metadata": {},
   "outputs": [
    {
     "data": {
      "text/plain": [
       "Weil divisor\n",
       "  on elliptic surface with generic fiber -x^3 + y^2 - t^7 + 2*t^6 - t^5\n",
       "with coefficients in integer ring\n",
       "given as the formal sum of\n",
       "  -3 * component E8_1 of fiber over (0, 1)\n",
       "   5 * component A2_1 of fiber over (1, 1)\n",
       "   1 * section: (0 : 1 : 0)"
      ]
     },
     "execution_count": 10,
     "metadata": {},
     "output_type": "execute_result"
    }
   ],
   "source": [
    "basisNSY1[2] - 3*basisNSY1[5] + 5*basisNSY1[3]"
   ]
  },
  {
   "cell_type": "code",
   "execution_count": 11,
   "id": "61d0149e-226e-483c-a1ae-4036e2ec0aae",
   "metadata": {},
   "outputs": [
    {
     "data": {
      "text/plain": [
       "[0    1    0    0    0    0    0    0    0    0    0    0    0    0    0    0    0    0    0    0]\n",
       "[1   -2    0    0    0    0    0    0    0    0    0    0    0    0    0    0    0    0    0    0]\n",
       "[0    0   -2    1    0    0    0    0    0    0    0    0    0    0    0    0    0    0    0    0]\n",
       "[0    0    1   -2    0    0    0    0    0    0    0    0    0    0    0    0    0    0    0    0]\n",
       "[0    0    0    0   -2    1    0    0    0    0    0    0    0    0    0    0    0    0    0    0]\n",
       "[0    0    0    0    1   -2    1    0    0    0    0    0    0    0    0    0    0    0    0    0]\n",
       "[0    0    0    0    0    1   -2    1    0    0    0    1    0    0    0    0    0    0    0    0]\n",
       "[0    0    0    0    0    0    1   -2    1    0    0    0    0    0    0    0    0    0    0    0]\n",
       "[0    0    0    0    0    0    0    1   -2    1    0    0    0    0    0    0    0    0    0    0]\n",
       "[0    0    0    0    0    0    0    0    1   -2    1    0    0    0    0    0    0    0    0    0]\n",
       "[0    0    0    0    0    0    0    0    0    1   -2    0    0    0    0    0    0    0    0    0]\n",
       "[0    0    0    0    0    0    1    0    0    0    0   -2    0    0    0    0    0    0    0    0]\n",
       "[0    0    0    0    0    0    0    0    0    0    0    0   -2    1    0    0    0    0    0    0]\n",
       "[0    0    0    0    0    0    0    0    0    0    0    0    1   -2    1    0    0    0    0    0]\n",
       "[0    0    0    0    0    0    0    0    0    0    0    0    0    1   -2    1    0    0    0    1]\n",
       "[0    0    0    0    0    0    0    0    0    0    0    0    0    0    1   -2    1    0    0    0]\n",
       "[0    0    0    0    0    0    0    0    0    0    0    0    0    0    0    1   -2    1    0    0]\n",
       "[0    0    0    0    0    0    0    0    0    0    0    0    0    0    0    0    1   -2    1    0]\n",
       "[0    0    0    0    0    0    0    0    0    0    0    0    0    0    0    0    0    1   -2    0]\n",
       "[0    0    0    0    0    0    0    0    0    0    0    0    0    0    1    0    0    0    0   -2]"
      ]
     },
     "execution_count": 11,
     "metadata": {},
     "output_type": "execute_result"
    }
   ],
   "source": [
    "gram_matrix(ambient_space(NSY1))"
   ]
  },
  {
   "cell_type": "markdown",
   "id": "35b01594",
   "metadata": {},
   "source": [
    "Here is their **intersection matrix**:"
   ]
  },
  {
   "cell_type": "markdown",
   "id": "c1f42638-6122-4ddf-9f20-4a91f0419431",
   "metadata": {},
   "source": [
    "The components of the Weil divisors are represented as a **sheaf of ideals**:"
   ]
  },
  {
   "cell_type": "code",
   "execution_count": 12,
   "id": "504477fe",
   "metadata": {},
   "outputs": [
    {
     "data": {
      "text/plain": [
       "Ideal generated by\n",
       "  t\n",
       "  (e2//e0)"
      ]
     },
     "execution_count": 12,
     "metadata": {},
     "output_type": "execute_result"
    }
   ],
   "source": [
    "# Time to play with the objects defined above\n",
    "U = affine_charts(Y1) # a list of affine charts for `Y1`\n",
    "I = first(components(basisNSY1[5])) # a sheaf of ideals on `Y1`\n",
    "I(U[5]) # a concrete ideal in the coordinate ring of the 5-th chart representing `I`"
   ]
  },
  {
   "cell_type": "code",
   "execution_count": 13,
   "id": "f2f33c5f",
   "metadata": {},
   "outputs": [
    {
     "data": {
      "text/plain": [
       "Sheaf of ideals\n",
       "  on scheme over QQ covered with 6 patches\n",
       "    1: [(x//z), (y//z), t]   scheme(-(x//z)^3 + (y//z)^2 - t^7 + 2*t^6 - t^5)\n",
       "    2: [(z//x), (y//x), t]   scheme((z//x)^3*t^7 - 2*(z//x)^3*t^6 + (z//x)^3*t^5 - (z//x)*(y//x)^2 + 1)\n",
       "    3: [(z//y), (x//y), t]   scheme((z//y)^3*t^7 - 2*(z//y)^3*t^6 + (z//y)^3*t^5 - (z//y) + (x//y)^3)\n",
       "    4: [(x//z), (y//z), s]   scheme((x//z)^3 - (y//z)^2 + s^7 - 2*s^6 + s^5)\n",
       "    5: [(z//x), (y//x), s]   scheme((z//x)^3*s^7 - 2*(z//x)^3*s^6 + (z//x)^3*s^5 - (z//x)*(y//x)^2 + 1)\n",
       "    6: [(z//y), (x//y), s]   scheme((z//y)^3*s^7 - 2*(z//y)^3*s^6 + (z//y)^3*s^5 - (z//y) + (x//y)^3)\n",
       "with restrictions\n",
       "  1: Ideal (t, (y//z), (x//z))\n",
       "  2: Ideal (1)\n",
       "  3: Ideal (1)\n",
       "  4: Ideal (1)\n",
       "  5: Ideal (1)\n",
       "  6: Ideal (1)"
      ]
     },
     "execution_count": 13,
     "metadata": {},
     "output_type": "execute_result"
    }
   ],
   "source": [
    "# Some examples for handling of ideal sheaves\n",
    "J = pushforward(piS, I)"
   ]
  },
  {
   "cell_type": "code",
   "execution_count": 14,
   "id": "4b8c1df2",
   "metadata": {},
   "outputs": [
    {
     "data": {
      "text/plain": [
       "Ideal generated by\n",
       "  t\n",
       "  (e2//e0)*t^2\n",
       "  (e1//e0)*t^2"
      ]
     },
     "execution_count": 14,
     "metadata": {},
     "output_type": "execute_result"
    }
   ],
   "source": [
    "pb_J = pullback(piS, J);\n",
    "pb_J(U[5])"
   ]
  },
  {
   "cell_type": "code",
   "execution_count": 15,
   "id": "5c180215",
   "metadata": {},
   "outputs": [
    {
     "data": {
      "text/plain": [
       "true"
      ]
     },
     "execution_count": 15,
     "metadata": {},
     "output_type": "execute_result"
    }
   ],
   "source": [
    "is_subset(pb_J, I)"
   ]
  },
  {
   "cell_type": "code",
   "execution_count": 16,
   "id": "e2811c4e",
   "metadata": {},
   "outputs": [
    {
     "data": {
      "text/plain": [
       "8-element Vector{Oscar.AbsIdealSheaf}:\n",
       " Prime ideal sheaf on Elliptic surface with generic fiber -x^3 + y^2 - t^7 + 2*t^6 - t^5 extended from Ideal (t, (e2//e0)) on scheme((e1//e0)^3*t^2 - (e2//e0)^2 + t^3 - 2*t^2 + t) \\ scheme(t - 1)\n",
       " Prime ideal sheaf on Elliptic surface with generic fiber -x^3 + y^2 - t^7 + 2*t^6 - t^5 extended from Ideal ((b2//b0), (i1//i0) - (i2//i0)^2) on scheme((i1//i0)^5*(b2//b0)^9 - 2*(i1//i0)^4*(b2//b0)^6 + (i1//i0)^3*(b2//b0)^3 + (i1//i0) - (i2//i0)^2) \\ scheme((i1//i0)*(b2//b0)^3 - 1)\n",
       " Prime ideal sheaf on Elliptic surface with generic fiber -x^3 + y^2 - t^7 + 2*t^6 - t^5 extended from Ideal ((i2//i0), (i1//i0) - (i2//i0)^2) on scheme((i1//i0)^5*(b2//b0)^9 - 2*(i1//i0)^4*(b2//b0)^6 + (i1//i0)^3*(b2//b0)^3 + (i1//i0) - (i2//i0)^2) \\ scheme((i1//i0)*(b2//b0)^3 - 1)\n",
       " Prime ideal sheaf on Elliptic surface with generic fiber -x^3 + y^2 - t^7 + 2*t^6 - t^5 extended from Ideal ((i2//i1), (i0//i1) - (i2//i1)^2) on scheme((i0//i1)^6*(g2//g0)^9 - 2*(i0//i1)^4*(g2//g0)^6 + (i0//i1)^2*(g2//g0)^3 + (i0//i1) - (i2//i1)^2) \\ scheme((i0//i1)^2*(g2//g0)^3 - 1)\n",
       " Prime ideal sheaf on Elliptic surface with generic fiber -x^3 + y^2 - t^7 + 2*t^6 - t^5 extended from Ideal ((e0//e1), (m1//m0) - (m2//m0)^2) on scheme((m1//m0)^3*(e0//e1)^8 - 2*(m1//m0)^2*(e0//e1)^4 + (m1//m0)^2*(e0//e1) + (m1//m0) - (m2//m0)^2) \\ scheme((m1//m0)*(e0//e1)^4 - 1)\n",
       " Prime ideal sheaf on Elliptic surface with generic fiber -x^3 + y^2 - t^7 + 2*t^6 - t^5 extended from Ideal ((n1//n0)^2 - (n2//n0), (j2//j0) + 1) on scheme(-(n1//n0)^2 + (n2//n0)^7*(j2//j0)^13 + 5*(n2//n0)^7*(j2//j0)^12 + 10*(n2//n0)^7*(j2//j0)^11 + 10*(n2//n0)^7*(j2//j0)^10 + 5*(n2//n0)^7*(j2//j0)^9 + (n2//n0)^7*(j2//j0)^8 - 2*(n2//n0)^4*(j2//j0)^6 - 4*(n2//n0)^4*(j2//j0)^5 - 2*(n2//n0)^4*(j2//j0)^4 + (n2//n0)) \\ scheme((n2//n0)^3*(j2//j0)^7 + 3*(n2//n0)^3*(j2//j0)^6 + 3*(n2//n0)^3*(j2//j0)^5 + (n2//n0)^3*(j2//j0)^4 - 1)\n",
       " Prime ideal sheaf on Elliptic surface with generic fiber -x^3 + y^2 - t^7 + 2*t^6 - t^5 extended from Ideal ((n2//n0), (n1//n0)) on scheme(-(n1//n0)^2 + (n2//n0)^7*(j2//j0)^13 + 5*(n2//n0)^7*(j2//j0)^12 + 10*(n2//n0)^7*(j2//j0)^11 + 10*(n2//n0)^7*(j2//j0)^10 + 5*(n2//n0)^7*(j2//j0)^9 + (n2//n0)^7*(j2//j0)^8 - 2*(n2//n0)^4*(j2//j0)^6 - 4*(n2//n0)^4*(j2//j0)^5 - 2*(n2//n0)^4*(j2//j0)^4 + (n2//n0)) \\ scheme((n2//n0)^3*(j2//j0)^7 + 3*(n2//n0)^3*(j2//j0)^6 + 3*(n2//n0)^3*(j2//j0)^5 + (n2//n0)^3*(j2//j0)^4 - 1)\n",
       " Prime ideal sheaf on Elliptic surface with generic fiber -x^3 + y^2 - t^7 + 2*t^6 - t^5 extended from Ideal ((o1//o0)^2 - (o2//o0), (j0//j2)) on scheme(-(o1//o0)^2 + (o2//o0)^7*(j0//j2)^16 + 5*(o2//o0)^7*(j0//j2)^15 + 10*(o2//o0)^7*(j0//j2)^14 + 10*(o2//o0)^7*(j0//j2)^13 + 5*(o2//o0)^7*(j0//j2)^12 + (o2//o0)^7*(j0//j2)^11 - 2*(o2//o0)^4*(j0//j2)^8 - 4*(o2//o0)^4*(j0//j2)^7 - 2*(o2//o0)^4*(j0//j2)^6 + (o2//o0)) \\ scheme((o2//o0)^3*(j0//j2)^8 + 3*(o2//o0)^3*(j0//j2)^7 + 3*(o2//o0)^3*(j0//j2)^6 + (o2//o0)^3*(j0//j2)^5 - 1)"
      ]
     },
     "execution_count": 16,
     "metadata": {},
     "output_type": "execute_result"
    }
   ],
   "source": [
    "Oscar.maximal_associated_points(pb_J)"
   ]
  },
  {
   "cell_type": "markdown",
   "id": "d0d9ba3f",
   "metadata": {},
   "source": [
    "## Finding all elliptic fibrations in the nef cone\n",
    "\n",
    "A great deal of information about a K3 surface,can be deduced from its various $\\mathbb{Z}$-**lattices** (integer cohomology, Neron-Severi, ...) and its Hodge structure. \n",
    "For any K3 surface $X$ the **elliptic fibrations** are in one-to-one correspondence with the **extremal rays of the nef-cone**. Let us find these rays.\n",
    "\n",
    "We start out by constructing an ample class in the lattice `NSY1`."
   ]
  },
  {
   "cell_type": "code",
   "execution_count": 17,
   "id": "ff78c885",
   "metadata": {},
   "outputs": [
    {
     "data": {
      "text/plain": [
       "[103   51   -1   -1   -46   -91   -135   -110   -84   -57   -29   -68   -46   -91   -135   -110   -84   -57   -29   -68]"
      ]
     },
     "execution_count": 17,
     "metadata": {},
     "output_type": "execute_result"
    }
   ],
   "source": [
    "e = matrix(ZZ,1,20,ones(Int,20)); e[1,1]=51;\n",
    "ample = e*inv(gram_matrix(NSY1))"
   ]
  },
  {
   "cell_type": "markdown",
   "id": "e396342f",
   "metadata": {},
   "source": [
    "We confirm that the class is indeed in the interior of a so called Weyl-chamber, by\n",
    "checking that it is not contained in any hyperplane orthogonal to a $(−2)$-\n",
    "class."
   ]
  },
  {
   "cell_type": "code",
   "execution_count": 18,
   "id": "2b404eff",
   "metadata": {},
   "outputs": [
    {
     "data": {
      "text/plain": [
       "4"
      ]
     },
     "execution_count": 18,
     "metadata": {},
     "output_type": "execute_result"
    }
   ],
   "source": [
    "minimum(rescale(orthogonal_submodule(NSY1, ample),-1))"
   ]
  },
  {
   "cell_type": "markdown",
   "id": "9851b090",
   "metadata": {},
   "source": [
    "Automorphisms of $Y_1$ act by pushforward on $\\mathrm{NS(Y_1)}$. We let OSCAR compute the image $\\mathrm{Aut}(Y_1) \\to O(\\mathrm{NS}(Y_1))$. \n",
    "In general this map has finite kernel. In our case it is injective and the image is an **infinite discrete group** of integer matrices."
   ]
  },
  {
   "cell_type": "code",
   "execution_count": 19,
   "id": "1d1706a2",
   "metadata": {},
   "outputs": [
    {
     "name": "stdout",
     "output_type": "stream",
     "text": [
      "computing an initial Weyl vector \n"
     ]
    },
    {
     "name": "stdout",
     "output_type": "stream",
     "text": [
      "found a lattice of minimum 2 \n"
     ]
    },
    {
     "name": "stdout",
     "output_type": "stream",
     "text": [
      "found a lattice of minimum 4 \n"
     ]
    },
    {
     "name": "stdout",
     "output_type": "stream",
     "text": [
      "new weyl: [61 30 -11 -21 -46 -91 -135 -110 -84 -57 -29 -68 -46 -91 -135 -110 -84 -57 -29 -68 2 -8 -5 5 -4 3] \n"
     ]
    },
    {
     "name": "stdout",
     "output_type": "stream",
     "text": [
      "Found a chamber with 71 automorphisms\n"
     ]
    },
    {
     "name": "stdout",
     "output_type": "stream",
     "text": [
      "72 automorphism group generators\n"
     ]
    },
    {
     "name": "stdout",
     "output_type": "stream",
     "text": [
      "1 congruence classes of chambers \n"
     ]
    },
    {
     "name": "stdout",
     "output_type": "stream",
     "text": [
      "2 orbits of rational curves\n"
     ]
    }
   ],
   "source": [
    "# WARNING: This computation is expensive! (~5 minutes)\n",
    "Xaut, Xchambers, Xrational_curves = K3_surface_automorphism_group(NSY1, ample);"
   ]
  },
  {
   "cell_type": "markdown",
   "id": "6da29426",
   "metadata": {},
   "source": [
    "The return value `Xchambers` is a list of **polyhedral cones** $C_1, \\dots, C_n$ which\n",
    "are contained in the Nef cone. Let $\\mathrm{Aut}(C_i) := \\mathrm{Aut}(X)C_i$ be the stabilizer of $C_i$. This stabilizer acts on the points of $C_i$. Let $P_i \\subset C_i$ be its fundamental\n",
    "domain. A fundamental domain of the action of $\\mathrm{Aut}(X)$ on the Nef cone is\n",
    "the union of the $P_i$ . In our case $n = 1$."
   ]
  },
  {
   "cell_type": "code",
   "execution_count": 20,
   "id": "010e7de3",
   "metadata": {},
   "outputs": [
    {
     "data": {
      "text/plain": [
       "Chamber  in dimension 20 with 36 walls"
      ]
     },
     "execution_count": 20,
     "metadata": {},
     "output_type": "execute_result"
    }
   ],
   "source": [
    "C = Xchambers[1]"
   ]
  },
  {
   "cell_type": "markdown",
   "id": "9bb9df1b",
   "metadata": {},
   "source": [
    "The walls $W=r^\\perp$ of $C$ with $r^2=-2$ and $r \\in \\mathrm{NS}(X)$ are classes\n",
    "of smooth rational curves. The rays $f$ of $C$ with $f^2=0$ give elliptic\n",
    "fibrations.  We now compute the rays of $C$ modulo the **finite group** $\\mathrm{Aut}(C)$."
   ]
  },
  {
   "cell_type": "code",
   "execution_count": 21,
   "id": "e33c25d0",
   "metadata": {},
   "outputs": [
    {
     "data": {
      "text/plain": [
       "6"
      ]
     },
     "execution_count": 21,
     "metadata": {},
     "output_type": "execute_result"
    }
   ],
   "source": [
    "Xelliptic_classes = [f for f in rays(C) if 0 == f*gram_matrix(NSY1)*transpose(f)];\n",
    "Xelliptic_classes_orb = orbits(gset(matrix_group(aut(C)),(x,g)->x*matrix(g), Xelliptic_classes));\n",
    "length(Xelliptic_classes_orb)"
   ]
  },
  {
   "cell_type": "markdown",
   "id": "bc4165b6",
   "metadata": {},
   "source": [
    "Thus modulo $\\mathrm{Aut}(Y_1/\\mathbb{C})$ there are **exactly $6$ elliptic fibrations** on $Y_1/\\mathbb{C}$. "
   ]
  },
  {
   "cell_type": "markdown",
   "id": "c31bb948",
   "metadata": {},
   "source": [
    "We relate the distinct fibrations by so-called \"two neighbor steps\"."
   ]
  },
  {
   "cell_type": "code",
   "execution_count": 22,
   "id": "4799f89c",
   "metadata": {},
   "outputs": [
    {
     "data": {
      "text/plain": [
       "3-element Vector{ZZMatrix}:\n",
       " [4   2   -1   -1   -2   -4   -6   -5   -4   -3   -2   -3   -4   -7   -10   -8   -6   -4   -2   -5]\n",
       " [4   2   0   0   -4   -7   -10   -8   -6   -4   -2   -5   -4   -7   -10   -8   -6   -4   -2   -5]\n",
       " [4   2   -1   -1   -4   -7   -10   -8   -6   -4   -2   -5   -2   -4   -6   -5   -4   -3   -2   -3]"
      ]
     },
     "execution_count": 22,
     "metadata": {},
     "output_type": "execute_result"
    }
   ],
   "source": [
    "f1 = identity_matrix(ZZ, 20)[1:1,:]; # the first element of `basisNSY1` is the class of the fiber\n",
    "f1_2neighbors = [f for f in Xelliptic_classes if 2 == (f1*gram_matrix(NSY1)*transpose(f))[1,1]]"
   ]
  },
  {
   "cell_type": "markdown",
   "id": "4528107f",
   "metadata": {},
   "source": [
    "From these elliptic divisors we may then again take the two neighbors."
   ]
  },
  {
   "cell_type": "code",
   "execution_count": 23,
   "id": "6ee0a906",
   "metadata": {},
   "outputs": [
    {
     "data": {
      "text/plain": [
       "6-element Vector{Vector{QQFieldElem}}:\n",
       " [1, 0, 0, 0, 0, 0, 0, 0, 0, 0, 0, 0, 0, 0, 0, 0, 0, 0, 0, 0]\n",
       " [4, 2, -1, -1, -2, -4, -6, -5, -4, -3, -2, -3, -4, -7, -10, -8, -6, -4, -2, -5]\n",
       " [4, 2, 0, 0, -4, -7, -10, -8, -6, -4, -2, -5, -4, -7, -10, -8, -6, -4, -2, -5]\n",
       " [6, 3, -1, -1, -5, -10, -15, -12, -9, -6, -3, -8, -5, -10, -15, -12, -9, -6, -3, -8]\n",
       " [6, 3, -1, -2, -4, -8, -12, -10, -8, -6, -3, -6, -4, -8, -12, -10, -8, -6, -3, -6]\n",
       " [8, 4, -1, -2, -6, -12, -18, -15, -12, -8, -4, -9, -7, -14, -20, -16, -12, -8, -4, -10]"
      ]
     },
     "execution_count": 23,
     "metadata": {},
     "output_type": "execute_result"
    }
   ],
   "source": [
    "f2, f3, _ = f1_2neighbors;\n",
    "f2_2neighbors = [f for f in Xelliptic_classes if 2 == (f2*gram_matrix(NSY1)*transpose(f))[1,1]];\n",
    "fibers = [f1,f2,f3];\n",
    "todo = [o for o in Xelliptic_classes_orb if !any(f in o for f in fibers)];\n",
    "while length(todo) > 0\n",
    "  o = popfirst!(todo)\n",
    "  f = findfirst(x-> x in o, f2_2neighbors)\n",
    "  push!(fibers, f2_2neighbors[f])\n",
    "end\n",
    "fibers = [vec(collect(i*basis_matrix(NSY1))) for i in fibers]"
   ]
  },
  {
   "cell_type": "markdown",
   "id": "293938f8",
   "metadata": {},
   "source": [
    "For all 6 fibrations gathered we compute their **Mordell-Weil rank**, the **torsion** subgroup of the Mordell-Weil-group, and the\n",
    "**ADE-type** of their **singular fibers**. "
   ]
  },
  {
   "cell_type": "code",
   "execution_count": 24,
   "id": "c63f3c87",
   "metadata": {},
   "outputs": [
    {
     "data": {
      "text/plain": [
       "6-element Vector{Tuple{Int64, FinGenAbGroup, Vector{Tuple{Symbol, Int64}}}}:\n",
       " (0, Z/1, [(:A, 2), (:E, 8), (:E, 8)])\n",
       " (1, Z/2, [(:D, 10), (:E, 7)])\n",
       " (0, Z/2, [(:A, 2), (:D, 16)])\n",
       " (1, Z/3, [(:A, 17)])\n",
       " (0, Z/3, [(:E, 6), (:E, 6), (:E, 6)])\n",
       " (0, Z/4, [(:A, 11), (:D, 7)])"
      ]
     },
     "execution_count": 24,
     "metadata": {},
     "output_type": "execute_result"
    }
   ],
   "source": [
    "[fibration_type(NSY1, f) for f in fibers]"
   ]
  },
  {
   "cell_type": "markdown",
   "id": "da7e7539",
   "metadata": {},
   "source": [
    "## Realizing elliptic fibrations and their transitions\n",
    "\n",
    "In what follows we aim to compute different Weierstrass-models of\n",
    "Vinberg's K3 surface which realize different elliptic fibrations. \n",
    "Moreover, we wish to identify their minimal desingularizations by explicit **rational maps**. "
   ]
  },
  {
   "cell_type": "markdown",
   "id": "265675e8-c9c3-448e-bf57-4d8144b0d092",
   "metadata": {},
   "source": [
    "To find the elliptic fibration $\\pi_2 \\colon Y \\to \\mathbb{P}^1$,\n",
    "we compute the **linear system** of the following divisor `f2` corresponding to a fiber of $\\pi_2$. "
   ]
  },
  {
   "cell_type": "code",
   "execution_count": 25,
   "id": "759f8cb5",
   "metadata": {},
   "outputs": [
    {
     "data": {
      "text/plain": [
       "Weil divisor\n",
       "  on elliptic surface with generic fiber -x^3 + y^2 - t^7 + 2*t^6 - t^5\n",
       "with coefficients in integer ring\n",
       "given as the formal sum of\n",
       "   -5 * component E8_8 of fiber over (1, 0)\n",
       "   -2 * component E8_7 of fiber over (1, 0)\n",
       "   -5 * component E8_4 of fiber over (0, 1)\n",
       "   -2 * component E8_7 of fiber over (0, 1)\n",
       "   -6 * component E8_5 of fiber over (1, 0)\n",
       "   -1 * component A2_1 of fiber over (1, 1)\n",
       "   -4 * component E8_2 of fiber over (0, 1)\n",
       "   -4 * component E8_6 of fiber over (1, 0)\n",
       "    4 * sheaf of ideals\n",
       "   -7 * component E8_2 of fiber over (1, 0)\n",
       "   -3 * component E8_6 of fiber over (0, 1)\n",
       "   -4 * component E8_1 of fiber over (1, 0)\n",
       "   -4 * component E8_5 of fiber over (0, 1)\n",
       "   -8 * component E8_4 of fiber over (1, 0)\n",
       "   -2 * component E8_1 of fiber over (0, 1)\n",
       "   -1 * component A2_2 of fiber over (1, 1)\n",
       "  -10 * component E8_3 of fiber over (1, 0)\n",
       "   -6 * component E8_3 of fiber over (0, 1)\n",
       "    2 * section: (0 : 1 : 0)\n",
       "   -3 * component E8_8 of fiber over (0, 1)"
      ]
     },
     "execution_count": 25,
     "metadata": {},
     "output_type": "execute_result"
    }
   ],
   "source": [
    "f2 = fibers[2]  # abstractly in the lattice\n",
    "sum(ZZ(f2[i])*basisNSY1[i] for i in 1:20)  # as a divisor"
   ]
  },
  {
   "cell_type": "markdown",
   "id": "551bce26-973f-4cd3-ac52-39384d91754a",
   "metadata": {},
   "source": [
    "We find a linear equivalence $f_2 \\sim V + O + P$ given by fibers and sectins according to a Lemma of Shioda."
   ]
  },
  {
   "cell_type": "code",
   "execution_count": 26,
   "id": "f133f83f-815f-4ef2-ae4c-7c7a472c3638",
   "metadata": {},
   "outputs": [
    {
     "data": {
      "text/plain": [
       "Effective weil divisor\n",
       "  on elliptic surface with generic fiber -x^3 + y^2 - t^7 + 2*t^6 - t^5\n",
       "with coefficients in integer ring\n",
       "given as the formal sum of\n",
       "  1 * component E8_8 of fiber over (1, 0)\n",
       "  2 * component E8_0 of fiber over (1, 0)\n",
       "  2 * component E8_7 of fiber over (1, 0)\n",
       "  1 * component A2_0 of fiber over (1, 1)\n",
       "  1 * component E8_0 of fiber over (0, 1)\n",
       "  2 * component E8_4 of fiber over (1, 0)\n",
       "  2 * component E8_5 of fiber over (1, 0)\n",
       "  2 * component E8_6 of fiber over (1, 0)\n",
       "  2 * component E8_3 of fiber over (1, 0)\n",
       "  2 * section: (0 : 1 : 0)\n",
       "  1 * component E8_2 of fiber over (1, 0)"
      ]
     },
     "execution_count": 26,
     "metadata": {},
     "output_type": "execute_result"
    }
   ],
   "source": [
    "decomp = Oscar.horizontal_decomposition(Y1, f2);\n",
    "decomp[2]"
   ]
  },
  {
   "cell_type": "markdown",
   "id": "22baf0f2",
   "metadata": {},
   "source": [
    "We compute an equation for the genus-$1$-fibration given by the linear system of `f2` and the rational change of coordinates `phi1` associated to it."
   ]
  },
  {
   "cell_type": "code",
   "execution_count": 27,
   "id": "80c07e29",
   "metadata": {},
   "outputs": [
    {
     "data": {
      "text/plain": [
       "-x^3 - t^3*x^2 + t^3*x + y^2"
      ]
     },
     "execution_count": 27,
     "metadata": {},
     "output_type": "execute_result"
    }
   ],
   "source": [
    "g, phi1 = two_neighbor_step(Y1, f2); g"
   ]
  },
  {
   "cell_type": "markdown",
   "id": "05170c8e",
   "metadata": {},
   "source": [
    "By coincidence $g$ is in minimal Weierstrass form already. In general $g$ will be of the form $y^2-q(x)$ with $q\\in \\mathbb{Q}(t)[x]$ of degree $4$. To turn it into an honest elliptic fibration one has to choose a point $P$, move it to infinity and apply Tate's algorithm to produce a globally minimal Weierstrass model. The result is an elliptic surface, together with another rational coordinate transformation `phi2`."
   ]
  },
  {
   "cell_type": "code",
   "execution_count": 28,
   "id": "3fb56fb2",
   "metadata": {},
   "outputs": [
    {
     "data": {
      "text/plain": [
       "Elliptic surface\n",
       "  over rational field\n",
       "with generic fiber\n",
       "  -x^3 - t^3*x^2 + t^3*x + y^2"
      ]
     },
     "execution_count": 28,
     "metadata": {},
     "output_type": "execute_result"
    }
   ],
   "source": [
    "kt2 = base_ring(parent(g)); P = kt2.([0, 1, 0]);\n",
    "Y2, phi2 = elliptic_surface(g, P; minimize=false); Y2"
   ]
  },
  {
   "cell_type": "markdown",
   "id": "5964e3d8",
   "metadata": {},
   "source": [
    "Using `phi1` and `phi2` we can write down the **birational rational map** $\\phi\\colon Y_2 \\dashrightarrow Y_1$. On the Weierstrass models, this map can have an indeterminacy locus. It is a deep theorem that $\\phi$ extends to an **isomorphism** $\\phi \\colon Y_2\\to Y_1$.\n",
    "Computations with such maps are **extraordinarily challenging**. "
   ]
  },
  {
   "cell_type": "code",
   "execution_count": 29,
   "id": "8c3af5f5",
   "metadata": {},
   "outputs": [
    {
     "data": {
      "text/plain": [
       "Morphism from rational functions\n",
       "  from elliptic surface with generic fiber -x^3 - t^3*x^2 + t^3*x + y^2\n",
       "  to elliptic surface with generic fiber -x^3 + y^2 - t^7 + 2*t^6 - t^5\n",
       "with representatives\n",
       "  ((x//z),(y//z),t) -> ((x//z)^2*t - (x//z)*t,(x//z)^2*(y//z) - (x//z)*(y//z),(x//z))"
      ]
     },
     "execution_count": 29,
     "metadata": {},
     "output_type": "execute_result"
    }
   ],
   "source": [
    "U2 = weierstrass_chart_on_minimal_model(Y2); U1 = weierstrass_chart_on_minimal_model(Y1);\n",
    "imgs = phi2.(phi1.(ambient_coordinates(U1))) # k(Y1) -> k(Y2)\n",
    "phi_rat = morphism_from_rational_functions(Y2, Y1, U2, U1, imgs)"
   ]
  },
  {
   "cell_type": "code",
   "execution_count": 30,
   "id": "39aa2b0e",
   "metadata": {},
   "outputs": [],
   "source": [
    "# In order to unlock certain features for this type of map\n",
    "# we need to manually declare that it is an isomorphism and that we know what we're doing.\n",
    "set_attribute!(phi_rat, :is_isomorphism=>true);"
   ]
  },
  {
   "cell_type": "markdown",
   "id": "8a7f2cd1",
   "metadata": {},
   "source": [
    "Now we are in a position to pull back divisors from `Y1` or push them forward from `Y2` along `phi_rat`. This enables us to realize further elliptic fibrations, departing from `Y2`. "
   ]
  },
  {
   "cell_type": "code",
   "execution_count": 31,
   "id": "3f4e399a",
   "metadata": {},
   "outputs": [
    {
     "data": {
      "text/plain": [
       "20-element Vector{WeilDivisor{EllipticSurface{QQField, AbstractAlgebra.Generic.FracFieldElem{QQPolyRingElem}}, ZZRing, ZZRingElem}}:\n",
       " Effective Weil divisor on elliptic surface with generic fiber -x^3 - t^3*x^2 + t^3*x + y^2\n",
       " Effective Weil divisor on elliptic surface with generic fiber -x^3 - t^3*x^2 + t^3*x + y^2\n",
       " Effective Weil divisor on elliptic surface with generic fiber -x^3 - t^3*x^2 + t^3*x + y^2\n",
       " Effective Weil divisor on elliptic surface with generic fiber -x^3 - t^3*x^2 + t^3*x + y^2\n",
       " Effective Weil divisor on elliptic surface with generic fiber -x^3 - t^3*x^2 + t^3*x + y^2\n",
       " Effective Weil divisor on elliptic surface with generic fiber -x^3 - t^3*x^2 + t^3*x + y^2\n",
       " Effective Weil divisor on elliptic surface with generic fiber -x^3 - t^3*x^2 + t^3*x + y^2\n",
       " Effective Weil divisor on elliptic surface with generic fiber -x^3 - t^3*x^2 + t^3*x + y^2\n",
       " Effective Weil divisor on elliptic surface with generic fiber -x^3 - t^3*x^2 + t^3*x + y^2\n",
       " Effective Weil divisor on elliptic surface with generic fiber -x^3 - t^3*x^2 + t^3*x + y^2\n",
       " Effective Weil divisor on elliptic surface with generic fiber -x^3 - t^3*x^2 + t^3*x + y^2\n",
       " Effective Weil divisor on elliptic surface with generic fiber -x^3 - t^3*x^2 + t^3*x + y^2\n",
       " Effective Weil divisor on elliptic surface with generic fiber -x^3 - t^3*x^2 + t^3*x + y^2\n",
       " Effective Weil divisor on elliptic surface with generic fiber -x^3 - t^3*x^2 + t^3*x + y^2\n",
       " Effective Weil divisor on elliptic surface with generic fiber -x^3 - t^3*x^2 + t^3*x + y^2\n",
       " Effective Weil divisor on elliptic surface with generic fiber -x^3 - t^3*x^2 + t^3*x + y^2\n",
       " Effective Weil divisor on elliptic surface with generic fiber -x^3 - t^3*x^2 + t^3*x + y^2\n",
       " Effective Weil divisor on elliptic surface with generic fiber -x^3 - t^3*x^2 + t^3*x + y^2\n",
       " Effective Weil divisor on elliptic surface with generic fiber -x^3 - t^3*x^2 + t^3*x + y^2\n",
       " Effective Weil divisor on elliptic surface with generic fiber -x^3 - t^3*x^2 + t^3*x + y^2"
      ]
     },
     "execution_count": 31,
     "metadata": {},
     "output_type": "execute_result"
    }
   ],
   "source": [
    "pb_basisNSY1 = [pullback(phi_rat, D) for D in basisNSY1]"
   ]
  },
  {
   "cell_type": "markdown",
   "id": "1d8afa2f",
   "metadata": {},
   "source": [
    "From our previous computations we already know that the corresponding elliptic fibration $\\pi_2$ has a\n",
    "$D_{10}$ and an $E_7$ fiber, a $2$-torsion section and Mordell-Weil rank\n",
    "one. To find a section of infinite order, we note that $f_2$ intersects\n",
    "some fiber components of $\\pi_1$ with multiplicity one. Therefore they\n",
    "are sections of $\\pi_2$. We can pull those divisors back to `Y2` to obtain the full Neron-Severi lattice there."
   ]
  },
  {
   "cell_type": "code",
   "execution_count": 32,
   "id": "2491e4c2",
   "metadata": {},
   "outputs": [
    {
     "data": {
      "text/plain": [
       "4-element Vector{Int64}:\n",
       "  3\n",
       "  4\n",
       " 11\n",
       " 13"
      ]
     },
     "execution_count": 32,
     "metadata": {},
     "output_type": "execute_result"
    }
   ],
   "source": [
    "point_candidate_indices = [i for i in 1:20 if is_one((gram_matrix(ambient_space(NSY1))*f2)[i])]"
   ]
  },
  {
   "cell_type": "code",
   "execution_count": 33,
   "id": "3a3ab236",
   "metadata": {},
   "outputs": [
    {
     "data": {
      "text/plain": [
       "4-element Vector{EllipticCurvePoint{AbstractAlgebra.Generic.FracFieldElem{QQPolyRingElem}}}:\n",
       " Point  (1 : -1 : 1)  of Elliptic curve with equation\n",
       "y^2 = x^3 + t^3*x^2 - t^3*x\n",
       " Point  (1 : 1 : 1)  of Elliptic curve with equation\n",
       "y^2 = x^3 + t^3*x^2 - t^3*x\n",
       " Point  (0 : 0 : 1)  of Elliptic curve with equation\n",
       "y^2 = x^3 + t^3*x^2 - t^3*x\n",
       " Point  (0 : 1 : 0)  of Elliptic curve with equation\n",
       "y^2 = x^3 + t^3*x^2 - t^3*x"
      ]
     },
     "execution_count": 33,
     "metadata": {},
     "output_type": "execute_result"
    }
   ],
   "source": [
    "points_on_E2 = Oscar.point_on_generic_fiber_from_divisor.(pb_basisNSY1[point_candidate_indices])"
   ]
  },
  {
   "cell_type": "code",
   "execution_count": 34,
   "id": "fb1c8325",
   "metadata": {},
   "outputs": [
    {
     "data": {
      "text/plain": [
       "2-element Vector{EllipticCurvePoint{AbstractAlgebra.Generic.FracFieldElem{QQPolyRingElem}}}:\n",
       " Point  (1 : -1 : 1)  of Elliptic curve with equation\n",
       "y^2 = x^3 + t^3*x^2 - t^3*x\n",
       " Point  (1 : 1 : 1)  of Elliptic curve with equation\n",
       "y^2 = x^3 + t^3*x^2 - t^3*x"
      ]
     },
     "execution_count": 34,
     "metadata": {},
     "output_type": "execute_result"
    }
   ],
   "source": [
    "points_on_E2 = [P for P in points_on_E2 if !isinfinite(2*P)]"
   ]
  },
  {
   "cell_type": "code",
   "execution_count": 35,
   "id": "ff7e5d92",
   "metadata": {},
   "outputs": [
    {
     "data": {
      "text/plain": [
       "20-element Vector{WeilDivisor{EllipticSurface{QQField, AbstractAlgebra.Generic.FracFieldElem{QQPolyRingElem}}, ZZRing, ZZRingElem}}:\n",
       " Fiber over (1, 1)\n",
       " section: (0 : 1 : 0)\n",
       " component E7_1 of fiber over (0, 1)\n",
       " component E7_2 of fiber over (0, 1)\n",
       " component E7_3 of fiber over (0, 1)\n",
       " component E7_4 of fiber over (0, 1)\n",
       " component E7_5 of fiber over (0, 1)\n",
       " component E7_6 of fiber over (0, 1)\n",
       " component E7_7 of fiber over (0, 1)\n",
       " component D10_1 of fiber over (1, 0)\n",
       " component D10_2 of fiber over (1, 0)\n",
       " component D10_3 of fiber over (1, 0)\n",
       " component D10_4 of fiber over (1, 0)\n",
       " component D10_5 of fiber over (1, 0)\n",
       " component D10_6 of fiber over (1, 0)\n",
       " component D10_7 of fiber over (1, 0)\n",
       " component D10_8 of fiber over (1, 0)\n",
       " component D10_9 of fiber over (1, 0)\n",
       " component D10_10 of fiber over (1, 0)\n",
       " section: (1 : -1 : 1)"
      ]
     },
     "execution_count": 35,
     "metadata": {},
     "output_type": "execute_result"
    }
   ],
   "source": [
    "Oscar.set_mordell_weil_basis!(Y2, [points_on_E2[1]])\n",
    "basisNSY2, _, NSY2 = algebraic_lattice(Y2)\n",
    "basisNSY2"
   ]
  },
  {
   "cell_type": "markdown",
   "id": "bfa2a55d",
   "metadata": {},
   "source": [
    "We do a quick sanity check that we indeed got the correct lattice."
   ]
  },
  {
   "cell_type": "code",
   "execution_count": 36,
   "id": "8dd34df8",
   "metadata": {},
   "outputs": [],
   "source": [
    "@assert det(gram_matrix(NSY2)) == det(gram_matrix(NSY1))"
   ]
  },
  {
   "cell_type": "markdown",
   "id": "320db338",
   "metadata": {},
   "source": [
    "The pushforward $\\phi_*\\colon \\mathrm{NS}(Y_2) \\to \\mathrm{NS}(Y_1)$ is a linear map. It can be computed via a specialized routine."
   ]
  },
  {
   "cell_type": "code",
   "execution_count": 37,
   "id": "b62bcf90-1bc2-48f2-b9fc-00fc52409f75",
   "metadata": {},
   "outputs": [
    {
     "data": {
      "text/plain": [
       "Map\n",
       "  from quadratic space of dimension 20\n",
       "  to quadratic space of dimension 20"
      ]
     },
     "execution_count": 37,
     "metadata": {},
     "output_type": "execute_result"
    }
   ],
   "source": [
    "phi_star = Oscar.pushforward_on_algebraic_lattices(phi_rat)  # This computation takes about 15 minutes"
   ]
  },
  {
   "cell_type": "markdown",
   "id": "e6e103a2-d41d-4049-bd91-c788f3d079e9",
   "metadata": {},
   "source": [
    "We pull back the fiber classes from $Y_1$ to $Y_2$. "
   ]
  },
  {
   "cell_type": "code",
   "execution_count": 38,
   "id": "a9032cee-8014-4ef0-8c8e-879d80adcfa0",
   "metadata": {},
   "outputs": [
    {
     "data": {
      "text/plain": [
       "6-element Vector{Vector{QQFieldElem}}:\n",
       " [4, 2, 0, 0, 0, 0, 0, 0, 0, -4, -4, -8, -7, -6, -5, -4, -3, -2, -1, 0]\n",
       " [1, 0, 0, 0, 0, 0, 0, 0, 0, 0, 0, 0, 0, 0, 0, 0, 0, 0, 0, 0]\n",
       " [5, 2, -2, -3, -4, -3, -2, -1, -2, -4, -5, -8, -7, -6, -5, -4, -3, -2, -1, 0]\n",
       " [4, 2, -2, -4, -6, -9//2, -3, -3//2, -7//2, -5//2, -3, -5, -9//2, -4, -7//2, -3, -5//2, -2, -3//2, 0]\n",
       " [2, 1, -1, -2, -3, -5//2, -2, -3//2, -3//2, -1//2, 0, -1, -3//2, -2, -5//2, -2, -3//2, -1, -1//2, 1]\n",
       " [2, 1, -2, -4, -6, -5, -4, -2, -3, 0, 0, 0, 0, 0, 0, 0, 0, 0, 0, 1]"
      ]
     },
     "execution_count": 38,
     "metadata": {},
     "output_type": "execute_result"
    }
   ],
   "source": [
    "fibers_on_Y2 = [f*inv(phi_star.matrix) for f in fibers]"
   ]
  },
  {
   "cell_type": "markdown",
   "id": "a4f8d69e-f0f6-4812-b2ba-f03269a11579",
   "metadata": {},
   "source": [
    "Now we are in a position to compute the remaining $4$ elliptic fibrations starting from $Y_2$ in a similar fashion."
   ]
  },
  {
   "cell_type": "code",
   "execution_count": 39,
   "id": "0f18e3e8-cbdf-41d1-baf0-866d53c64f04",
   "metadata": {},
   "outputs": [
    {
     "data": {
      "text/plain": [
       "(-x^3 + (-t^3 + 2)*x^2 - x + y^2, Map: multivariate polynomial ring -> fraction field -> fraction field)"
      ]
     },
     "execution_count": 39,
     "metadata": {},
     "output_type": "execute_result"
    }
   ],
   "source": [
    "two_neighbor_step(Y1,fibers[3])"
   ]
  },
  {
   "cell_type": "code",
   "execution_count": 40,
   "id": "84b8b342-cd35-4de8-9874-0c5b26467e8c",
   "metadata": {},
   "outputs": [
    {
     "data": {
      "text/plain": [
       "(-1//4*x^4 + 1//2*t^2*x^3 - 1//4*t^4*x^2 - x + y^2, Map: multivariate polynomial ring -> fraction field -> fraction field)"
      ]
     },
     "execution_count": 40,
     "metadata": {},
     "output_type": "execute_result"
    }
   ],
   "source": [
    "two_neighbor_step(Y2,fibers_on_Y2[4])"
   ]
  },
  {
   "cell_type": "code",
   "execution_count": 41,
   "id": "41c7331e-ad24-44a8-9300-5c00da6da42e",
   "metadata": {},
   "outputs": [
    {
     "data": {
      "text/plain": [
       "((-t^2 - 2*t - 1)*x^3 + y^2 - 1//4*t^4, Map: multivariate polynomial ring -> fraction field -> fraction field)"
      ]
     },
     "execution_count": 41,
     "metadata": {},
     "output_type": "execute_result"
    }
   ],
   "source": [
    "two_neighbor_step(Y2,fibers_on_Y2[5])"
   ]
  },
  {
   "cell_type": "code",
   "execution_count": 42,
   "id": "d93b47c9-0d96-4cd6-94f7-89167b145cb3",
   "metadata": {},
   "outputs": [
    {
     "data": {
      "text/plain": [
       "(-1//4*t^4*x^4 + 1//2*t^2*x^3 + (-t^3 - 1//4)*x^2 + t*x + y^2, Map: multivariate polynomial ring -> fraction field -> fraction field)"
      ]
     },
     "execution_count": 42,
     "metadata": {},
     "output_type": "execute_result"
    }
   ],
   "source": [
    "two_neighbor_step(Y2,fibers_on_Y2[6])"
   ]
  }
 ],
 "metadata": {
  "kernelspec": {
   "display_name": "Julia 1.10.4",
   "language": "julia",
   "name": "julia-1.10"
  },
  "language_info": {
   "file_extension": ".jl",
   "mimetype": "application/julia",
   "name": "julia",
   "version": "1.10.4"
  }
 },
 "nbformat": 4,
 "nbformat_minor": 5
}
